{
 "cells": [
  {
   "cell_type": "code",
   "execution_count": null,
   "metadata": {
    "_cell_guid": "b1076dfc-b9ad-4769-8c92-a6c4dae69d19",
    "_uuid": "8f2839f25d086af736a60e9eeb907d3b93b6e0e5",
    "execution": {
     "iopub.execute_input": "2025-04-05T06:30:35.926812Z",
     "iopub.status.busy": "2025-04-05T06:30:35.926221Z",
     "iopub.status.idle": "2025-04-05T06:30:44.526281Z",
     "shell.execute_reply": "2025-04-05T06:30:44.524654Z",
     "shell.execute_reply.started": "2025-04-05T06:30:35.926754Z"
    },
    "trusted": true
   },
   "outputs": [],
   "source": [
    "!pip install -q ultralytics\n",
    "!pip install -q deep_sort_realtime\n",
    "import cv2\n",
    "import torch\n",
    "import time\n",
    "import numpy as np\n",
    "from deep_sort_realtime.deepsort_tracker import DeepSort\n",
    "from ultralytics import YOLO\n",
    "from collections import defaultdict"
   ]
  },
  {
   "cell_type": "code",
   "execution_count": null,
   "metadata": {
    "execution": {
     "iopub.execute_input": "2025-04-05T06:33:43.922512Z",
     "iopub.status.busy": "2025-04-05T06:33:43.922135Z",
     "iopub.status.idle": "2025-04-05T06:33:46.619491Z",
     "shell.execute_reply": "2025-04-05T06:33:46.618454Z",
     "shell.execute_reply.started": "2025-04-05T06:33:43.922484Z"
    },
    "trusted": true
   },
   "outputs": [
    {
     "name": "stdout",
     "output_type": "stream",
     "text": [
      "Epoch 1, Loss: 1.0796\n",
      "Epoch 2, Loss: 1.1081\n",
      "Epoch 3, Loss: 1.0891\n",
      "Epoch 4, Loss: 1.1829\n",
      "Epoch 5, Loss: 1.0553\n",
      "Epoch 6, Loss: 0.9994\n",
      "Epoch 7, Loss: 0.8939\n",
      "Epoch 8, Loss: 0.9265\n",
      "Epoch 9, Loss: 1.1100\n",
      "Epoch 10, Loss: 0.9026\n",
      "Epoch 11, Loss: 1.0359\n",
      "Epoch 12, Loss: 1.0942\n",
      "Epoch 13, Loss: 1.2864\n",
      "Epoch 14, Loss: 1.2961\n",
      "Epoch 15, Loss: 0.9847\n",
      "Epoch 16, Loss: 1.2295\n",
      "Epoch 17, Loss: 0.9949\n",
      "Epoch 18, Loss: 0.9752\n",
      "Epoch 19, Loss: 1.0454\n",
      "Epoch 20, Loss: 1.0828\n"
     ]
    }
   ],
   "source": [
    "import torch\n",
    "import torch.nn as nn\n",
    "import torch.optim as optim\n",
    "from torch.utils.data import DataLoader, TensorDataset\n",
    "\n",
    "# Dummy dataset (replace with real movement trajectories and labels)\n",
    "X = torch.randn(100, 20, 2)  # 100 sequences, 20 points, (x,y)\n",
    "y = torch.randint(0, 3, (100,))  # 3 classes: 0=Walking, 1=Standing, 2=Loitering\n",
    "\n",
    "train_dataset = TensorDataset(X, y)\n",
    "train_loader = DataLoader(train_dataset, batch_size=16, shuffle=True)\n",
    "\n",
    "# Define model\n",
    "class BehaviorClassifier(nn.Module):\n",
    "    def __init__(self):\n",
    "        super().__init__()\n",
    "        self.lstm = nn.LSTM(input_size=2, hidden_size=64, batch_first=True)\n",
    "        self.fc = nn.Linear(64, 3)\n",
    "\n",
    "    def forward(self, x):\n",
    "        _, (h, _) = self.lstm(x)\n",
    "        return self.fc(h[-1])\n",
    "\n",
    "model = BehaviorClassifier()\n",
    "criterion = nn.CrossEntropyLoss()\n",
    "optimizer = optim.Adam(model.parameters(), lr=0.001)\n",
    "\n",
    "# Train loop\n",
    "for epoch in range(20):\n",
    "    for batch_x, batch_y in train_loader:\n",
    "        optimizer.zero_grad()\n",
    "        output = model(batch_x)\n",
    "        loss = criterion(output, batch_y)\n",
    "        loss.backward()\n",
    "        optimizer.step()\n",
    "    print(f\"Epoch {epoch+1}, Loss: {loss.item():.4f}\")\n",
    "\n",
    "# Save the model\n",
    "torch.save(model.state_dict(), \"lstm_model.pth\")\n"
   ]
  },
  {
   "cell_type": "code",
   "execution_count": null,
   "metadata": {
    "execution": {
     "iopub.execute_input": "2025-04-05T06:34:58.435120Z",
     "iopub.status.busy": "2025-04-05T06:34:58.434706Z",
     "iopub.status.idle": "2025-04-05T06:34:58.503540Z",
     "shell.execute_reply": "2025-04-05T06:34:58.502495Z",
     "shell.execute_reply.started": "2025-04-05T06:34:58.435080Z"
    },
    "trusted": true
   },
   "outputs": [],
   "source": [
    "# YOLOv8 model\n",
    "yolo_model = YOLO(\"yolov8n.pt\")\n",
    "\n",
    "# LSTM behavior classification model\n",
    "class BehaviorClassifier(torch.nn.Module):\n",
    "    def __init__(self):\n",
    "        super().__init__()\n",
    "        self.lstm = torch.nn.LSTM(input_size=2, hidden_size=64, batch_first=True)\n",
    "        self.fc = torch.nn.Linear(64, 3)\n",
    "\n",
    "    def forward(self, x):\n",
    "        _, (h, _) = self.lstm(x)\n",
    "        return self.fc(h[-1])\n",
    "\n",
    "behavior_model = BehaviorClassifier()\n",
    "behavior_model.load_state_dict(torch.load(\"/kaggle/working/lstm_model.pth\", map_location=torch.device('cpu')))\n",
    "behavior_model.eval()\n",
    "\n",
    "behavior_labels = [\"Walking\", \"Standing\", \"Loitering\"]\n",
    "colors = [(0,255,0), (255,255,0), (0,0,255)]"
   ]
  },
  {
   "cell_type": "code",
   "execution_count": null,
   "metadata": {
    "execution": {
     "iopub.execute_input": "2025-04-05T06:35:10.477859Z",
     "iopub.status.busy": "2025-04-05T06:35:10.477494Z",
     "iopub.status.idle": "2025-04-05T06:35:11.843738Z",
     "shell.execute_reply": "2025-04-05T06:35:11.842751Z",
     "shell.execute_reply.started": "2025-04-05T06:35:10.477832Z"
    },
    "trusted": true
   },
   "outputs": [],
   "source": [
    "deep_sort = DeepSort(max_age=30)"
   ]
  },
  {
   "cell_type": "code",
   "execution_count": null,
   "metadata": {
    "execution": {
     "iopub.execute_input": "2025-04-05T06:35:22.816115Z",
     "iopub.status.busy": "2025-04-05T06:35:22.815710Z",
     "iopub.status.idle": "2025-04-05T06:35:22.820873Z",
     "shell.execute_reply": "2025-04-05T06:35:22.819682Z",
     "shell.execute_reply.started": "2025-04-05T06:35:22.816086Z"
    },
    "trusted": true
   },
   "outputs": [],
   "source": [
    "loiter_timer = {}  # track_id -> [start_time, is_triggered]\n",
    "LOITER_THRESHOLD = 5  # seconds\n",
    "track_history = defaultdict(list)  # For LSTM\n",
    "\n",
    "# Resize parameters\n",
    "resize_width, resize_height = 640, 360"
   ]
  },
  {
   "cell_type": "code",
   "execution_count": null,
   "metadata": {
    "execution": {
     "iopub.execute_input": "2025-04-05T06:37:30.770729Z",
     "iopub.status.busy": "2025-04-05T06:37:30.770353Z",
     "iopub.status.idle": "2025-04-05T06:37:30.787257Z",
     "shell.execute_reply": "2025-04-05T06:37:30.786102Z",
     "shell.execute_reply.started": "2025-04-05T06:37:30.770697Z"
    },
    "trusted": true
   },
   "outputs": [],
   "source": [
    "def blend_frames(rgb_frame, thermal_frame, alpha=0.5):\n",
    "    rgb_resized = cv2.resize(rgb_frame, (thermal_frame.shape[1], thermal_frame.shape[0]))\n",
    "    return cv2.addWeighted(rgb_resized, alpha, thermal_frame, 1 - alpha, 0)\n",
    "\n",
    "# ========================== Video Input ==============================\n",
    "use_webcam = True\n",
    "if use_webcam:\n",
    "    cap = cv2.VideoCapture(0)  # Webcam\n",
    "    thermal_cap = None  # Assume thermal cam not connected\n",
    "else:\n",
    "    cap = cv2.VideoCapture(\"/kaggle/input/input-video/rgb.mp4\")\n",
    "    thermal_cap = cv2.VideoCapture(\"/kaggle/input/thermal-video/thermal.mp4\")\n",
    "\n",
    "frame_count = 0\n",
    "while True:\n",
    "    ret_rgb, rgb_frame = cap.read()\n",
    "    if thermal_cap:\n",
    "        ret_thermal, thermal_frame = thermal_cap.read()\n",
    "        if not ret_rgb or not ret_thermal:\n",
    "            break\n",
    "        frame = blend_frames(rgb_frame, thermal_frame)\n",
    "    else:\n",
    "        if not ret_rgb:\n",
    "            break\n",
    "        frame = rgb_frame\n",
    "\n",
    "    # Resize\n",
    "    frame = cv2.resize(frame, (resize_width, resize_height))\n",
    "\n",
    "    # ==================== YOLO Detection ==========================\n",
    "    results = yolo_model(frame)[0]\n",
    "    detections = []\n",
    "    for box in results.boxes.data.tolist():\n",
    "        x1, y1, x2, y2, score, cls = box\n",
    "        if int(cls) == 0 and score > 0.5:  # Person class\n",
    "            detections.append(([x1, y1, x2 - x1, y2 - y1], score, \"person\"))\n",
    "\n",
    "    # ==================== DeepSORT Tracking ==========================\n",
    "    tracks = deep_sort.update_tracks(detections, frame=frame)\n",
    "\n",
    "    for track in tracks:\n",
    "        if not track.is_confirmed():\n",
    "            continue\n",
    "\n",
    "        track_id = track.track_id\n",
    "        l, t, w, h = track.to_ltrb()\n",
    "        r, b = l + w, t + h\n",
    "        center = [int((l + r) / 2), int((t + b) / 2)]\n",
    "\n",
    "        # Update movement history\n",
    "        track_history[track_id].append(center)\n",
    "        if len(track_history[track_id]) > 20:\n",
    "            track_history[track_id] = track_history[track_id][-20:]\n",
    "\n",
    "        label = \"Unknown\"\n",
    "        color = (200, 200, 200)\n",
    "\n",
    "        if track_id not in loiter_timer:\n",
    "            loiter_timer[track_id] = [None, False]\n",
    "\n",
    "        # ================== LSTM Behavior Classification ==================\n",
    "        if len(track_history[track_id]) >= 10:\n",
    "            traj = torch.tensor(track_history[track_id], dtype=torch.float32).unsqueeze(0)\n",
    "            pred = behavior_model(traj)\n",
    "            pred_idx = pred.argmax(dim=1).item()\n",
    "            label = behavior_labels[pred_idx]\n",
    "            color = colors[pred_idx]\n",
    "\n",
    "            # Loitering Alert\n",
    "            if label == \"Loitering\":\n",
    "                if loiter_timer[track_id][0] is None:\n",
    "                    loiter_timer[track_id][0] = time.time()\n",
    "                else:\n",
    "                    elapsed = time.time() - loiter_timer[track_id][0]\n",
    "                    if elapsed > LOITER_THRESHOLD and not loiter_timer[track_id][1]:\n",
    "                        print(f\"\\u2757 ALERT: Track {track_id} LOITERING > {int(elapsed)}s\")\n",
    "                        loiter_timer[track_id][1] = True\n",
    "                        cv2.putText(frame, \"\\u2757 ALERT\", (int(l), int(b) + 20),\n",
    "                                    cv2.FONT_HERSHEY_SIMPLEX, 0.8, (0, 0, 255), 3)\n",
    "            else:\n",
    "                loiter_timer[track_id] = [None, False]\n",
    "\n",
    "        # ================== Draw Boxes and Labels ==========================\n",
    "        cv2.rectangle(frame, (int(l), int(t)), (int(r), int(b)), color, 2)\n",
    "        cv2.putText(frame, f\"{label} ID:{track_id}\", (int(l), int(t) - 10),\n",
    "                    cv2.FONT_HERSHEY_SIMPLEX, 0.5, color, 2)\n",
    "\n",
    "    frame_count += 1\n",
    "    if frame_count % 10 == 0:\n",
    "        print(f\"Processed frame {frame_count}\")\n",
    "\n",
    "    cv2.imshow(\"Surveillance\", frame)\n",
    "    if cv2.waitKey(1) & 0xFF == ord('q'):\n",
    "        break"
   ]
  },
  {
   "cell_type": "code",
   "execution_count": null,
   "metadata": {
    "execution": {
     "iopub.execute_input": "2025-04-05T06:37:46.521116Z",
     "iopub.status.busy": "2025-04-05T06:37:46.520695Z",
     "iopub.status.idle": "2025-04-05T06:37:46.538768Z",
     "shell.execute_reply": "2025-04-05T06:37:46.537578Z",
     "shell.execute_reply.started": "2025-04-05T06:37:46.521086Z"
    },
    "trusted": true
   },
   "outputs": [],
   "source": [
    "cap.release()\n",
    "if thermal_cap:\n",
    "    thermal_cap.release()\n",
    "cv2.destroyAllWindows()"
   ]
  },
  {
   "cell_type": "code",
   "execution_count": null,
   "metadata": {
    "trusted": true
   },
   "outputs": [],
   "source": []
  }
 ],
 "metadata": {
  "kaggle": {
   "accelerator": "none",
   "dataSources": [
    {
     "datasetId": 7053678,
     "sourceId": 11282056,
     "sourceType": "datasetVersion"
    }
   ],
   "dockerImageVersionId": 30918,
   "isGpuEnabled": false,
   "isInternetEnabled": true,
   "language": "python",
   "sourceType": "notebook"
  },
  "kernelspec": {
   "display_name": "Python 3",
   "language": "python",
   "name": "python3"
  },
  "language_info": {
   "codemirror_mode": {
    "name": "ipython",
    "version": 3
   },
   "file_extension": ".py",
   "mimetype": "text/x-python",
   "name": "python",
   "nbconvert_exporter": "python",
   "pygments_lexer": "ipython3",
   "version": "3.10.12"
  }
 },
 "nbformat": 4,
 "nbformat_minor": 4
}
